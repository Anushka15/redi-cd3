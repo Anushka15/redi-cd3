{
 "cells": [
  {
   "cell_type": "code",
   "execution_count": 1,
   "id": "8a2429af",
   "metadata": {},
   "outputs": [],
   "source": [
    "import sys\n",
    "sys.path.append('../')\n",
    "from database.fetch_data import *\n",
    "import pandas as pd\n",
    "from itertools import product\n",
    "import string\n",
    "from probabilistic_database_creation.rv_probability_assignments import *"
   ]
  },
  {
   "cell_type": "code",
   "execution_count": 2,
   "id": "0d3aa2fa",
   "metadata": {},
   "outputs": [],
   "source": [
    "#These constants can be changed dynamically\n",
    "\n",
    "#Name of the inconsistent DB\n",
    "table_name = \"car_owner_corrupted\"\n",
    "\n",
    "#determinant attribute (LHS of FD): In person -> {model,color}, determinant = person\n",
    "#TODO: Extend for multiple determinants\n",
    "determinant_attributes = [\"person\"]\n",
    "\n",
    "#dependent attributes (RHS of FD): In person -> {model,color}, dependent = model,color\n",
    "dependent_attributes = [\"model\",\"color\"]"
   ]
  },
  {
   "cell_type": "code",
   "execution_count": 3,
   "id": "ef41400b",
   "metadata": {},
   "outputs": [],
   "source": [
    "all_records = fetch_data_results(fetch_all_records(table_name,determinant_attributes,dependent_attributes))\n",
    "data = pd.DataFrame(all_records, columns=determinant_attributes+dependent_attributes)"
   ]
  },
  {
   "cell_type": "code",
   "execution_count": 4,
   "id": "9c0f4df0",
   "metadata": {},
   "outputs": [],
   "source": [
    "dependent_attributes_mappings = generate_rvs(data,dependent_attributes)\n",
    "rv_assignments = create_rv_assignments(data,dependent_attributes_mappings,determinant_attributes)"
   ]
  },
  {
   "cell_type": "code",
   "execution_count": 9,
   "id": "29e657ec",
   "metadata": {},
   "outputs": [
    {
     "name": "stdout",
     "output_type": "stream",
     "text": [
      "Frank:\n",
      "  a1=1: {'value': 'Toyota', 'prob': 1.0}\n",
      "  a1=2: {'value': 'Honda', 'prob': 0}\n",
      "  a1=3: {'value': 'Mazda', 'prob': 0}\n",
      "  b1=1: {'value': 'Red', 'prob': 0.5}\n",
      "  b1=2: {'value': 'Blue', 'prob': 0.5}\n",
      "  b1=3: {'value': 'Green', 'prob': 0}\n",
      "Billy:\n",
      "  a2=1: {'value': 'Toyota', 'prob': 0}\n",
      "  a2=2: {'value': 'Honda', 'prob': 1.0}\n",
      "  a2=3: {'value': 'Mazda', 'prob': 0}\n",
      "  b2=1: {'value': 'Red', 'prob': 0}\n",
      "  b2=2: {'value': 'Blue', 'prob': 1.0}\n",
      "  b2=3: {'value': 'Green', 'prob': 0}\n",
      "Jimmy:\n",
      "  a3=1: {'value': 'Toyota', 'prob': 0}\n",
      "  a3=2: {'value': 'Honda', 'prob': 0}\n",
      "  a3=3: {'value': 'Mazda', 'prob': 1.0}\n",
      "  b3=1: {'value': 'Red', 'prob': 0}\n",
      "  b3=2: {'value': 'Blue', 'prob': 0}\n",
      "  b3=3: {'value': 'Green', 'prob': 1.0}\n",
      "Thomas:\n",
      "  a4=1: {'value': 'Toyota', 'prob': 1.0}\n",
      "  a4=2: {'value': 'Honda', 'prob': 0}\n",
      "  a4=3: {'value': 'Mazda', 'prob': 0}\n",
      "  b4=1: {'value': 'Red', 'prob': 0.5}\n",
      "  b4=2: {'value': 'Blue', 'prob': 0.5}\n",
      "  b4=3: {'value': 'Green', 'prob': 0}\n",
      "Betty:\n",
      "  a5=1: {'value': 'Toyota', 'prob': 0.3333333333333333}\n",
      "  a5=2: {'value': 'Honda', 'prob': 0.3333333333333333}\n",
      "  a5=3: {'value': 'Mazda', 'prob': 0.3333333333333333}\n",
      "  b5=1: {'value': 'Red', 'prob': 0}\n",
      "  b5=2: {'value': 'Blue', 'prob': 0}\n",
      "  b5=3: {'value': 'Green', 'prob': 1.0}\n",
      "Johnny:\n",
      "  a6=1: {'value': 'Toyota', 'prob': 0}\n",
      "  a6=2: {'value': 'Honda', 'prob': 0}\n",
      "  a6=3: {'value': 'Mazda', 'prob': 1.0}\n",
      "  b6=1: {'value': 'Red', 'prob': 0}\n",
      "  b6=2: {'value': 'Blue', 'prob': 0}\n",
      "  b6=3: {'value': 'Green', 'prob': 1.0}\n"
     ]
    }
   ],
   "source": [
    "rv_assignments_CWA = create_rv_assignments_with_prob_CWA(data,dependent_attributes_mappings,determinant_attributes,dependent_attributes)\n",
    "\n",
    "for determinant_attribute, assignments in rv_assignments_CWA.items():\n",
    "    print(f\"{determinant_attribute}:\")\n",
    "    for rv, prob in assignments.items():\n",
    "        print(f\"  {rv}: {prob}\")"
   ]
  },
  {
   "cell_type": "code",
   "execution_count": 10,
   "id": "1db6b4f4",
   "metadata": {},
   "outputs": [
    {
     "name": "stdout",
     "output_type": "stream",
     "text": [
      "Frank:\n",
      "  a1=1: {'value': 'Toyota', 'prob': 0.8}\n",
      "  a1=2: {'value': 'Honda', 'prob': 0.1}\n",
      "  a1=3: {'value': 'Mazda', 'prob': 0.1}\n",
      "  b1=1: {'value': 'Red', 'prob': 0.4}\n",
      "  b1=2: {'value': 'Blue', 'prob': 0.4}\n",
      "  b1=3: {'value': 'Green', 'prob': 0.2}\n",
      "Billy:\n",
      "  a2=1: {'value': 'Toyota', 'prob': 0}\n",
      "  a2=2: {'value': 'Honda', 'prob': 1}\n",
      "  a2=3: {'value': 'Mazda', 'prob': 0}\n",
      "  b2=1: {'value': 'Red', 'prob': 0}\n",
      "  b2=2: {'value': 'Blue', 'prob': 1}\n",
      "  b2=3: {'value': 'Green', 'prob': 0}\n",
      "Jimmy:\n",
      "  a3=1: {'value': 'Toyota', 'prob': 0}\n",
      "  a3=2: {'value': 'Honda', 'prob': 0}\n",
      "  a3=3: {'value': 'Mazda', 'prob': 1}\n",
      "  b3=1: {'value': 'Red', 'prob': 0}\n",
      "  b3=2: {'value': 'Blue', 'prob': 0}\n",
      "  b3=3: {'value': 'Green', 'prob': 1}\n",
      "Thomas:\n",
      "  a4=1: {'value': 'Toyota', 'prob': 0.8}\n",
      "  a4=2: {'value': 'Honda', 'prob': 0.1}\n",
      "  a4=3: {'value': 'Mazda', 'prob': 0.1}\n",
      "  b4=1: {'value': 'Red', 'prob': 0.4}\n",
      "  b4=2: {'value': 'Blue', 'prob': 0.4}\n",
      "  b4=3: {'value': 'Green', 'prob': 0.2}\n",
      "Betty:\n",
      "  a5=1: {'value': 'Toyota', 'prob': 0.3333333333333333}\n",
      "  a5=2: {'value': 'Honda', 'prob': 0.3333333333333333}\n",
      "  a5=3: {'value': 'Mazda', 'prob': 0.3333333333333333}\n",
      "  b5=1: {'value': 'Red', 'prob': 0.1}\n",
      "  b5=2: {'value': 'Blue', 'prob': 0.1}\n",
      "  b5=3: {'value': 'Green', 'prob': 0.8}\n",
      "Johnny:\n",
      "  a6=1: {'value': 'Toyota', 'prob': 0}\n",
      "  a6=2: {'value': 'Honda', 'prob': 0}\n",
      "  a6=3: {'value': 'Mazda', 'prob': 1}\n",
      "  b6=1: {'value': 'Red', 'prob': 0}\n",
      "  b6=2: {'value': 'Blue', 'prob': 0}\n",
      "  b6=3: {'value': 'Green', 'prob': 1}\n"
     ]
    }
   ],
   "source": [
    "rv_assignments_SWA = create_rv_assignments_with_prob_SWA(data,dependent_attributes_mappings,determinant_attributes,dependent_attributes)\n",
    "for determinant_attribute, assignments in rv_assignments_SWA.items():\n",
    "    print(f\"{determinant_attribute}:\")\n",
    "    for rv, prob in assignments.items():\n",
    "        print(f\"  {rv}: {prob}\")"
   ]
  },
  {
   "cell_type": "code",
   "execution_count": null,
   "id": "b5efc34f",
   "metadata": {},
   "outputs": [],
   "source": []
  }
 ],
 "metadata": {
  "kernelspec": {
   "display_name": "Python 3 (ipykernel)",
   "language": "python",
   "name": "python3"
  },
  "language_info": {
   "codemirror_mode": {
    "name": "ipython",
    "version": 3
   },
   "file_extension": ".py",
   "mimetype": "text/x-python",
   "name": "python",
   "nbconvert_exporter": "python",
   "pygments_lexer": "ipython3",
   "version": "3.11.5"
  }
 },
 "nbformat": 4,
 "nbformat_minor": 5
}
