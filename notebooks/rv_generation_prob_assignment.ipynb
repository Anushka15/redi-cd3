{
 "cells": [
  {
   "cell_type": "code",
   "execution_count": 1,
   "id": "7a11adcf",
   "metadata": {},
   "outputs": [],
   "source": [
    "import sys\n",
    "sys.path.append('../')\n",
    "from database.fetch_data import *\n",
    "import pandas as pd\n",
    "from itertools import product\n",
    "import string\n",
    "from probabilistic_database_creation.rv_probability_assignments import *"
   ]
  },
  {
   "cell_type": "code",
   "execution_count": 2,
   "id": "8451ebd8",
   "metadata": {},
   "outputs": [],
   "source": [
    "#These constants can be changed dynamically\n",
    "\n",
    "#Name of the inconsistent DB\n",
    "table_name = \"car_owner_corrupted\"\n",
    "\n",
    "#determinant attribute (LHS of FD): In person -> {model,color}, determinant = person\n",
    "#TODO: Extend for multiple determinants\n",
    "determinant_attributes = [\"person\"]\n",
    "\n",
    "#dependent attributes (RHS of FD): In person -> {model,color}, dependent = model,color\n",
    "dependent_attributes = [\"model\",\"color\"]"
   ]
  },
  {
   "cell_type": "code",
   "execution_count": 3,
   "id": "e60613b4",
   "metadata": {},
   "outputs": [],
   "source": [
    "all_records = fetch_data_results(fetch_all_records(table_name,determinant_attributes,dependent_attributes))\n",
    "data = pd.DataFrame(all_records, columns=determinant_attributes+dependent_attributes)"
   ]
  },
  {
   "cell_type": "code",
   "execution_count": 4,
   "id": "d08c01af",
   "metadata": {},
   "outputs": [],
   "source": [
    "dependent_attributes_mappings = generate_rvs(data,dependent_attributes)"
   ]
  },
  {
   "cell_type": "code",
   "execution_count": 5,
   "id": "9350972d",
   "metadata": {},
   "outputs": [
    {
     "name": "stdout",
     "output_type": "stream",
     "text": [
      "Frank:\n",
      "  a1=1: Toyota (prob: 1.0), a1=2: Honda (prob: 0), a1=3: Mazda (prob: 0)\n",
      "  b1=1: Red (prob: 0.5), b1=2: Blue (prob: 0.5), b1=3: Green (prob: 0)\n",
      "Billy:\n",
      "  a2=1: Toyota (prob: 0), a2=2: Honda (prob: 1.0), a2=3: Mazda (prob: 0)\n",
      "  b2=1: Red (prob: 0), b2=2: Blue (prob: 1.0), b2=3: Green (prob: 0)\n",
      "Jimmy:\n",
      "  a3=1: Toyota (prob: 0), a3=2: Honda (prob: 0), a3=3: Mazda (prob: 1.0)\n",
      "  b3=1: Red (prob: 0), b3=2: Blue (prob: 0), b3=3: Green (prob: 1.0)\n",
      "Thomas:\n",
      "  a4=1: Toyota (prob: 1.0), a4=2: Honda (prob: 0), a4=3: Mazda (prob: 0)\n",
      "  b4=1: Red (prob: 0.5), b4=2: Blue (prob: 0.5), b4=3: Green (prob: 0)\n",
      "Betty:\n",
      "  a5=1: Toyota (prob: 0.3333333333333333), a5=2: Honda (prob: 0.3333333333333333), a5=3: Mazda (prob: 0.3333333333333333)\n",
      "  b5=1: Red (prob: 0), b5=2: Blue (prob: 0), b5=3: Green (prob: 1.0)\n",
      "Johnny:\n",
      "  a6=1: Toyota (prob: 0), a6=2: Honda (prob: 0), a6=3: Mazda (prob: 1.0)\n",
      "  b6=1: Red (prob: 0), b6=2: Blue (prob: 0), b6=3: Green (prob: 1.0)\n"
     ]
    }
   ],
   "source": [
    "rv_assignments_CWA = create_rv_assignments_with_prob_CWA(data,dependent_attributes_mappings,determinant_attributes,dependent_attributes)\n",
    "\n",
    "for determinant_attribute, assignments in rv_assignments_CWA.items():\n",
    "    print(f\"{determinant_attribute}:\")\n",
    "    for attr_dict in assignments:\n",
    "        attr_str = \", \".join([f\"{key}: {value['value']} (prob: {value['prob']})\" for key, value in attr_dict.items()])\n",
    "        print(f\"  {attr_str}\")"
   ]
  },
  {
   "cell_type": "code",
   "execution_count": 6,
   "id": "20ae6f02",
   "metadata": {},
   "outputs": [
    {
     "name": "stdout",
     "output_type": "stream",
     "text": [
      "Frank:\n",
      "  a1=1: Toyota (prob: 0.8), a1=2: Honda (prob: 0.1), a1=3: Mazda (prob: 0.1)\n",
      "  b1=1: Red (prob: 0.4), b1=2: Blue (prob: 0.4), b1=3: Green (prob: 0.2)\n",
      "Billy:\n",
      "  a2=1: Toyota (prob: 0), a2=2: Honda (prob: 1), a2=3: Mazda (prob: 0)\n",
      "  b2=1: Red (prob: 0), b2=2: Blue (prob: 1), b2=3: Green (prob: 0)\n",
      "Jimmy:\n",
      "  a3=1: Toyota (prob: 0), a3=2: Honda (prob: 0), a3=3: Mazda (prob: 1)\n",
      "  b3=1: Red (prob: 0), b3=2: Blue (prob: 0), b3=3: Green (prob: 1)\n",
      "Thomas:\n",
      "  a4=1: Toyota (prob: 0.8), a4=2: Honda (prob: 0.1), a4=3: Mazda (prob: 0.1)\n",
      "  b4=1: Red (prob: 0.4), b4=2: Blue (prob: 0.4), b4=3: Green (prob: 0.2)\n",
      "Betty:\n",
      "  a5=1: Toyota (prob: 0.3333333333333333), a5=2: Honda (prob: 0.3333333333333333), a5=3: Mazda (prob: 0.3333333333333333)\n",
      "  b5=1: Red (prob: 0.1), b5=2: Blue (prob: 0.1), b5=3: Green (prob: 0.8)\n",
      "Johnny:\n",
      "  a6=1: Toyota (prob: 0), a6=2: Honda (prob: 0), a6=3: Mazda (prob: 1)\n",
      "  b6=1: Red (prob: 0), b6=2: Blue (prob: 0), b6=3: Green (prob: 1)\n"
     ]
    }
   ],
   "source": [
    "rv_assignments_SWA = create_rv_assignments_with_prob_SWA(data,dependent_attributes_mappings,determinant_attributes,dependent_attributes)\n",
    "\n",
    "for determinant_attribute, assignments in rv_assignments_SWA.items():\n",
    "    print(f\"{determinant_attribute}:\")\n",
    "    for attr_dict in assignments:\n",
    "        attr_str = \", \".join([f\"{key}: {value['value']} (prob: {value['prob']})\" for key, value in attr_dict.items()])\n",
    "        print(f\"  {attr_str}\")"
   ]
  },
  {
   "cell_type": "code",
   "execution_count": null,
   "id": "23a89750",
   "metadata": {},
   "outputs": [],
   "source": [
    "sentences = compute_sentences(rv_assignments_CWA)\n",
    "print(sentences)\n",
    "for determinant, tuples_list in sentences.items():\n",
    "    print(f\"{determinant}:\")\n",
    "    for tpl in tuples_list:\n",
    "        values_str = \", \".join(tpl[0])\n",
    "        print(f\"  ({values_str}), {tpl[1]}\")"
   ]
  },
  {
   "cell_type": "code",
   "execution_count": null,
   "id": "0e228cbb",
   "metadata": {},
   "outputs": [],
   "source": []
  }
 ],
 "metadata": {
  "kernelspec": {
   "display_name": "Python 3 (ipykernel)",
   "language": "python",
   "name": "python3"
  },
  "language_info": {
   "codemirror_mode": {
    "name": "ipython",
    "version": 3
   },
   "file_extension": ".py",
   "mimetype": "text/x-python",
   "name": "python",
   "nbconvert_exporter": "python",
   "pygments_lexer": "ipython3",
   "version": "3.11.5"
  }
 },
 "nbformat": 4,
 "nbformat_minor": 5
}
