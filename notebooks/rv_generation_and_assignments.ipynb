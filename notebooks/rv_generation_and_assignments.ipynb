{
 "cells": [
  {
   "cell_type": "code",
   "execution_count": 5,
   "id": "a31d724a",
   "metadata": {},
   "outputs": [],
   "source": [
    "import sys\n",
    "sys.path.append('../')\n",
    "from probabilistic_database_creation.rv_assignments import *"
   ]
  },
  {
   "cell_type": "code",
   "execution_count": 6,
   "id": "02214a78",
   "metadata": {},
   "outputs": [],
   "source": [
    "#These constants can be changed dynamically\n",
    "\n",
    "#Name of the inconsistent DB\n",
    "table_name = \"car_owner_corrupted\"\n",
    "\n",
    "#determinant attribute (LHS of FD): In person -> {model,color}, determinant = person\n",
    "#TODO: Extend for multiple determinants\n",
    "determinant_attributes = [\"person\"]\n",
    "\n",
    "#dependent attributes (RHS of FD): In person -> {model,color}, dependent = model,color\n",
    "dependent_attributes = [\"model\",\"color\"]"
   ]
  },
  {
   "cell_type": "code",
   "execution_count": 8,
   "id": "b47b3912",
   "metadata": {},
   "outputs": [
    {
     "name": "stdout",
     "output_type": "stream",
     "text": [
      "{'Billy': {'a1=1': 'Honda', 'a1=2': 'Mazda', 'a1=3': 'Toyota', 'b1=1': 'Red', 'b1=2': 'Blue', 'b1=3': 'Green'}, 'Thomas': {'a2=1': 'Honda', 'a2=2': 'Mazda', 'a2=3': 'Toyota', 'b2=1': 'Red', 'b2=2': 'Blue', 'b2=3': 'Green'}, 'Frank': {'a3=1': 'Honda', 'a3=2': 'Mazda', 'a3=3': 'Toyota', 'b3=1': 'Red', 'b3=2': 'Blue', 'b3=3': 'Green'}, 'Johnny': {'a4=1': 'Honda', 'a4=2': 'Mazda', 'a4=3': 'Toyota', 'b4=1': 'Red', 'b4=2': 'Blue', 'b4=3': 'Green'}, 'Betty': {'a5=1': 'Honda', 'a5=2': 'Mazda', 'a5=3': 'Toyota', 'b5=1': 'Red', 'b5=2': 'Blue', 'b5=3': 'Green'}, 'Jimmy': {'a6=1': 'Honda', 'a6=2': 'Mazda', 'a6=3': 'Toyota', 'b6=1': 'Red', 'b6=2': 'Blue', 'b6=3': 'Green'}}\n"
     ]
    }
   ],
   "source": [
    "dependent_attributes_mappings = generate_rvs(table_name,dependent_attributes)\n",
    "rv_assignments = create_rv_assignments(dependent_attributes_mappings,table_name,determinant_attributes)\n",
    "print(rv_assignments)"
   ]
  },
  {
   "cell_type": "code",
   "execution_count": null,
   "id": "4ce3f19e",
   "metadata": {},
   "outputs": [],
   "source": []
  }
 ],
 "metadata": {
  "kernelspec": {
   "display_name": "Python 3 (ipykernel)",
   "language": "python",
   "name": "python3"
  },
  "language_info": {
   "codemirror_mode": {
    "name": "ipython",
    "version": 3
   },
   "file_extension": ".py",
   "mimetype": "text/x-python",
   "name": "python",
   "nbconvert_exporter": "python",
   "pygments_lexer": "ipython3",
   "version": "3.11.5"
  }
 },
 "nbformat": 4,
 "nbformat_minor": 5
}
